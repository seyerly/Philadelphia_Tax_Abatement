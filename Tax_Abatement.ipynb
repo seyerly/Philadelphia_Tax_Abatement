{
 "cells": [
  {
   "cell_type": "code",
   "execution_count": 5,
   "metadata": {},
   "outputs": [],
   "source": [
    "# This notebook takes in the philadelphia tax assements and census tract datasets and figures out\n",
    "# which addresses are most likely to qualify for tax abatement.\n",
    "import urllib.request\n",
    "\n",
    "opa_properties_public = None;\n",
    "try:\n",
    "    opa_properties_public = open(\"opa_properties_public.csv\", \"r\");\n",
    "except IOError:\n",
    "    urllib.request.urlretrieve (\"https://phl.carto.com/api/v2/sql?q=SELECT+*,+ST_Y(the_geom)+AS+lat,+ST_X(the_geom)+AS+lng+FROM+opa_properties_public&filename=opa_properties_public&format=csv&skipfields=cartodb_id,the_geom,the_geom_webmercator\", \"opa_properties_public.csv\")\n",
    "    opa_properties_public = open(\"opa_properties_public.csv\", \"r\");\n",
    "\n"
   ]
  },
  {
   "cell_type": "code",
   "execution_count": null,
   "metadata": {},
   "outputs": [],
   "source": []
  }
 ],
 "metadata": {
  "kernelspec": {
   "display_name": "Python 3",
   "language": "python",
   "name": "python3"
  },
  "language_info": {
   "codemirror_mode": {
    "name": "ipython",
    "version": 3
   },
   "file_extension": ".py",
   "mimetype": "text/x-python",
   "name": "python",
   "nbconvert_exporter": "python",
   "pygments_lexer": "ipython3",
   "version": "3.7.4"
  }
 },
 "nbformat": 4,
 "nbformat_minor": 2
}
